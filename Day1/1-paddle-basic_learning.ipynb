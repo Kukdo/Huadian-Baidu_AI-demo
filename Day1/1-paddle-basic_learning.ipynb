{
 "cells": [
  {
   "cell_type": "markdown",
   "metadata": {},
   "source": [
    "### The paddle version using in this file is 1.8.4"
   ]
  },
  {
   "cell_type": "code",
   "execution_count": null,
   "metadata": {
    "scrolled": true
   },
   "outputs": [],
   "source": [
    "import paddle\n",
    "paddle.__version__"
   ]
  },
  {
   "cell_type": "markdown",
   "metadata": {},
   "source": [
    "### Define constant"
   ]
  },
  {
   "cell_type": "code",
   "execution_count": null,
   "metadata": {},
   "outputs": [],
   "source": [
    "import numpy as np\n",
    "import paddle.fluid as fluid\n",
    "c = fluid.layers.fill_constant(shape=[3,3],dtype='float32',value=3.14) # Declaration\n",
    "print(c)\n",
    "\n",
    "cpu = fluid.core.CPUPlace() # load CPU\n",
    "exe = fluid.Executor(cpu) # execute program using CPU\n",
    "exe.run(fetch_list=[c]) # get the value of 'c'"
   ]
  },
  {
   "cell_type": "markdown",
   "metadata": {},
   "source": [
    "### Define variables"
   ]
  },
  {
   "cell_type": "markdown",
   "metadata": {},
   "source": [
    "#### Method I"
   ]
  },
  {
   "cell_type": "code",
   "execution_count": null,
   "metadata": {},
   "outputs": [],
   "source": [
    "import paddle.fluid as fluid\n",
    "import numpy\n",
    "\n",
    "# 1、Define the variables (Data variables)\n",
    "a1 = fluid.data(name=\"a1\",shape=[1],dtype='float32') \n",
    "b1 = fluid.data(name=\"b1\",shape=[1],dtype='float32') \n",
    "\n",
    "# 2、Define the operation\n",
    "add = fluid.layers.elementwise_add(a1,b1) # add\n",
    "mul = fluid.layers.elementwise_mul(a1,b1) # multiply(numbers)\n",
    "\n",
    "\n",
    "# 3、Define the executor\n",
    "# using CPU\n",
    "cpu = fluid.core.CPUPlace()\n",
    "exe = fluid.Executor(cpu)\n",
    "\n",
    "# 4、Assignment and operation\n",
    "x1 = numpy.array([5]).astype(\"float32\")\n",
    "y1 = numpy.array([7]).astype(\"float32\")\n",
    "outs = exe.run(\n",
    "        feed={'a1':x1,'b1':y1},\n",
    "        fetch_list=[add,mul])\n",
    "print(outs) # 5+7 = 12 5*7 = 35"
   ]
  },
  {
   "cell_type": "markdown",
   "metadata": {},
   "source": [
    "#### Method II"
   ]
  },
  {
   "cell_type": "code",
   "execution_count": null,
   "metadata": {},
   "outputs": [],
   "source": [
    "import paddle.fluid as fluid\n",
    "import numpy\n",
    "\n",
    "# 1、Define the variables (Parameter variables)\n",
    "x = fluid.layers.create_parameter(shape = [1],dtype='float32',name = 'x')\n",
    "y = fluid.layers.create_parameter(shape = [1],dtype='float32',name = 'y')\n",
    "\n",
    "# 2、Define the operation\n",
    "sub = fluid.layers.elementwise_sub(x,y,name = 'sub') # sub\n",
    "\n",
    "# 3、Define the executor\n",
    "# Using CPU\n",
    "cpu = fluid.core.CPUPlace()\n",
    "exe = fluid.Executor(cpu)\n",
    "\n",
    "# 4、Assignment and operation\n",
    "a = numpy.array([15]).astype(\"float32\")\n",
    "b = numpy.array([7]).astype(\"float32\")\n",
    "outs = exe.run(\n",
    "        feed={'x':a,'y':b}, # feed the data\n",
    "        fetch_list=[sub])\n",
    "\n",
    "print(outs) # 15-7 = 8"
   ]
  },
  {
   "cell_type": "markdown",
   "metadata": {},
   "source": [
    "### Add&Mean"
   ]
  },
  {
   "cell_type": "code",
   "execution_count": null,
   "metadata": {},
   "outputs": [],
   "source": [
    "import numpy as np"
   ]
  },
  {
   "cell_type": "code",
   "execution_count": null,
   "metadata": {},
   "outputs": [],
   "source": [
    "np.arange(1,101) # create array [1,101) == [1,100]"
   ]
  },
  {
   "cell_type": "code",
   "execution_count": null,
   "metadata": {},
   "outputs": [],
   "source": [
    "from paddle import fluid\n",
    "import numpy as np\n",
    "\n",
    "x = fluid.data(name=\"x\",shape=[1],dtype='float32')\n",
    "y = fluid.data(name=\"y\",shape=[1],dtype='float32')\n",
    "\n",
    "result = fluid.layers.elementwise_add(x,y) # add\n",
    "\n",
    "a = fluid.layers.range(1,101,1,'int32') # 从 same method as np.arange\n",
    "b = fluid.layers.cast(a,dtype='float64') # using cast for data type conversion\n",
    "m = fluid.layers.mean(b) # mean\n",
    "\n",
    "c = np.array([255]).astype(\"float32\")\n",
    "d = np.array([3]).astype(\"float32\")\n",
    "\n",
    "cpu = fluid.core.CPUPlace()\n",
    "exe = fluid.Executor(cpu)\n",
    "\n",
    "exe.run(feed = {'x':c,'y':d},fetch_list=[result,a,b,m]) # 255 + 3"
   ]
  },
  {
   "cell_type": "markdown",
   "metadata": {},
   "source": [
    "### Matrix Operations"
   ]
  },
  {
   "cell_type": "code",
   "execution_count": null,
   "metadata": {
    "scrolled": true
   },
   "outputs": [],
   "source": [
    "import paddle.fluid as fluid\n",
    "import numpy as np\n",
    "\n",
    "a = fluid.layers.data(name='xx', shape=[2, 3], dtype='float32')\n",
    "b = fluid.layers.data(name='yy', shape=[3, 2], dtype='float32')\n",
    "out = fluid.layers.matmul(a, b) # matrix multiply\n",
    "\n",
    "\n",
    "a=np.array([[1,2,3],[3,5,7]]).astype('float32')\n",
    "b=np.array([[1,9],[2,8],[3,7]]).astype('float32')\n",
    "\n",
    "print(a,b)\n",
    "display(a,b)\n",
    "\n",
    "place = fluid.CPUPlace()\n",
    "exe = fluid.executor.Executor(place)\n",
    "\n",
    "out_y = exe.run(program=fluid.default_main_program(),# using main_program\n",
    "               feed={'xx': a, 'yy': b},\n",
    "               fetch_list=[out])\n",
    "out_y"
   ]
  },
  {
   "cell_type": "markdown",
   "metadata": {},
   "source": [
    "### Martix dot product"
   ]
  },
  {
   "cell_type": "code",
   "execution_count": null,
   "metadata": {},
   "outputs": [],
   "source": [
    "import paddle.fluid as fluid\n",
    "import numpy as np\n",
    "\n",
    "a = fluid.layers.data(name='xx', shape=[3], dtype='float32')\n",
    "b = fluid.layers.data(name='yy', shape=[3], dtype='float32')\n",
    "\n",
    "out = fluid.layers.dot(a, b) # dot product\n",
    "\n",
    "a=np.array([1,2,3]).astype('float32')\n",
    "b=np.array([1,9,2]).astype('float32')\n",
    "\n",
    "place = fluid.CPUPlace()\n",
    "exe = fluid.executor.Executor(place)\n",
    "\n",
    "out_y= exe.run(feed={'xx': a, 'yy': b},\n",
    "               fetch_list=[out])\n",
    "out_y"
   ]
  },
  {
   "cell_type": "markdown",
   "metadata": {},
   "source": [
    "### parameter obtain"
   ]
  },
  {
   "cell_type": "code",
   "execution_count": null,
   "metadata": {
    "scrolled": true
   },
   "outputs": [],
   "source": [
    "import paddle.fluid as fluid\n",
    "from paddle.fluid.param_attr import ParamAttr ",
    "import numpy as np\n",
    "\n",
    "x = fluid.layers.data(name='x', shape=[None,5], dtype='float32') # None == -1\n",
    "y = fluid.layers.data(name='y', shape=[None,5], dtype='float32') \n",
    "\n",
    "# Define the parameters attribute\n",
    "param_w = ParamAttr(name='target_fc') # parameter(slope)\n",
    "bias_b = ParamAttr(name='target_fc_b') # bias(intercept)\n",
    "\n",
    "# fully connected\n",
    "# auto generate w and b to execute matrix operation\n",
    "fc1 = fluid.layers.fc(input=x, # data \n",
    "                      size=2, # output units\n",
    "                      act=None, # activation\n",
    "                      param_attr=param_w, \n",
    "                      bias_attr=bias_b) \n",
    "fc2 = fluid.layers.fc(input=y, # data \n",
    "                      size=2, # output units\n",
    "                      act=None, # activation\n",
    "                      param_attr=param_w, \n",
    "                      bias_attr=bias_b) \n",
    "\n",
    "place = fluid.CPUPlace()\n",
    "exe = fluid.Executor(place)\n",
    "\n",
    "# initialization\n",
    "exe.run(fluid.default_startup_program())\n",
    "w = fluid.global_scope().find_var(\"target_fc\").get_tensor()\n",
    "b = fluid.global_scope().find_var(\"target_fc_b\").get_tensor()\n",
    "w = np.array(w)\n",
    "b = np.array(b)\n",
    "\n",
    "#print(\"the shape of w is: \",w.shape)\n",
    "#print(\"the shape of b is: \",b.shape)\n",
    "print(w)\n",
    "print(b)\n",
    "\n",
    "a = np.asarray([1,2,3,4,5]).astype(np.float32).reshape(1,5)\n",
    "b = np.asarray([6,7,8,9,10]).astype(np.float32).reshape(1,5)\n",
    "print(a)\n",
    "print(b)\n",
    "\n",
    "out = exe.run(feed = {'x':a, 'y':b},fetch_list = [fc1,fc2])\n",
    "display(out)"
   ]
  },
  {
   "cell_type": "code",
   "execution_count": null,
   "metadata": {},
   "outputs": [],
   "source": [
    "# Equivalent to matrix dot product\n",
    "print(a.dot(w))\n",
    "print(b.dot(w))"
   ]
  },
  {
   "cell_type": "markdown",
   "metadata": {},
   "source": [
    "### program\n"
   ]
  },
  {
   "cell_type": "code",
   "execution_count": null,
   "metadata": {},
   "outputs": [],
   "source": [
    "import numpy as np\n",
    "import paddle.fluid as fluid\n",
    "\n",
    "x = fluid.data(name='x',shape=[None, 13], dtype='float32')\n",
    "y = fluid.layers.data(name='y', shape=[1], dtype='float32')\n",
    "\n",
    "y_predict = fluid.layers.fc(input=x, size=1, act=None)\n",
    "# Mean square error\n",
    "cost = fluid.layers.square_error_cost(input=y_predict, label=y)\n",
    "\n",
    "cpu = fluid.CPUPlace()\n",
    "exe = fluid.Executor(cpu)\n",
    "\n",
    "exe.run(fluid.default_startup_program())\n",
    "\n",
    "a = np.random.randint(0,10,size =[1,13]).astype(np.float32)\n",
    "b = np.random.randint(0,10,size = 1).astype(np.float32)\n",
    "\n",
    "print(a,b)\n",
    "\n",
    "\n",
    "y_,cost_ = exe.run(feed = {'x':a,'y':b},fetch_list=[y_predict,cost])\n",
    "display(y_,cost_)"
   ]
  },
  {
   "cell_type": "code",
   "execution_count": null,
   "metadata": {},
   "outputs": [],
   "source": [
    "((y_ - b)**2).mean() # the content of MSE"
   ]
  }
 ],
 "metadata": {
  "kernelspec": {
   "display_name": "Python 3",
   "language": "python",
   "name": "python3"
  },
  "language_info": {
   "codemirror_mode": {
    "name": "ipython",
    "version": 3
   },
   "file_extension": ".py",
   "mimetype": "text/x-python",
   "name": "python",
   "nbconvert_exporter": "python",
   "pygments_lexer": "ipython3",
   "version": "3.7.3"
  },
  "toc": {
   "base_numbering": 1,
   "nav_menu": {},
   "number_sections": true,
   "sideBar": true,
   "skip_h1_title": false,
   "title_cell": "Table of Contents",
   "title_sidebar": "Contents",
   "toc_cell": false,
   "toc_position": {},
   "toc_section_display": true,
   "toc_window_display": false
  }
 },
 "nbformat": 4,
 "nbformat_minor": 4
}
